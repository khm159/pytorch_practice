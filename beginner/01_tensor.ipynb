{
  "nbformat": 4,
  "nbformat_minor": 0,
  "metadata": {
    "colab": {
      "name": "01 tensor.ipynb",
      "provenance": [],
      "collapsed_sections": []
    },
    "kernelspec": {
      "name": "python3",
      "display_name": "Python 3"
    }
  },
  "cells": [
    {
      "cell_type": "markdown",
      "metadata": {
        "id": "J2D72BzAfzfi"
      },
      "source": [
        "# 01 텐서(tensor)\n",
        "\n",
        "- 텐서는 `numpy ndarray` 와 유사하다. \n",
        "텐서는 GPU 연산을 빠르게 하기위해 array에 다른것들이 추가된 object이다.\n",
        "\n"
      ]
    },
    {
      "cell_type": "markdown",
      "metadata": {
        "id": "VERDgpL9zJOt"
      },
      "source": [
        "\n",
        "- 초기화하지 않는 텐서(empty tensor)를 선언하면, 쓰레기값이 들어있다. \n",
        "\n",
        "  `torch.empty()`"
      ]
    },
    {
      "cell_type": "code",
      "metadata": {
        "id": "fZ2yFxcGgsX5",
        "outputId": "1e69145f-5514-4ee0-ac84-e3374361e5f3",
        "colab": {
          "base_uri": "https://localhost:8080/"
        }
      },
      "source": [
        "import torch \n",
        "print(torch.__version__)\n",
        "\n",
        "# 5x3 empty tensor 선언 \n",
        "x = torch.empty(5, 3)\n",
        "print(x)"
      ],
      "execution_count": 3,
      "outputs": [
        {
          "output_type": "stream",
          "text": [
            "1.6.0+cu101\n",
            "tensor([[2.2439e-35, 0.0000e+00, 3.3631e-44],\n",
            "        [0.0000e+00,        nan, 1.6255e-43],\n",
            "        [1.1578e+27, 1.1362e+30, 7.1547e+22],\n",
            "        [4.5828e+30, 1.2121e+04, 7.1846e+22],\n",
            "        [9.2198e-39, 7.0374e+22, 8.4845e-36]])\n"
          ],
          "name": "stdout"
        }
      ]
    },
    {
      "cell_type": "markdown",
      "metadata": {
        "id": "5E55fdWShNcH"
      },
      "source": [
        "- 일정 범위 내에서 무작위 초기값을 줄 수도 있다. \n",
        "\n",
        "   `torch.rand() `"
      ]
    },
    {
      "cell_type": "code",
      "metadata": {
        "id": "Vxt2B2uohM92",
        "outputId": "b4745b24-07d6-4cad-eb79-216f2ca5a29f",
        "colab": {
          "base_uri": "https://localhost:8080/"
        }
      },
      "source": [
        "x = torch.rand(5, 3)\n",
        "print(x)"
      ],
      "execution_count": 4,
      "outputs": [
        {
          "output_type": "stream",
          "text": [
            "tensor([[0.7819, 0.0437, 0.8268],\n",
            "        [0.4264, 0.5658, 0.1569],\n",
            "        [0.3001, 0.5390, 0.4305],\n",
            "        [0.8866, 0.8717, 0.8832],\n",
            "        [0.7402, 0.4188, 0.6983]])\n"
          ],
          "name": "stdout"
        }
      ]
    },
    {
      "cell_type": "markdown",
      "metadata": {
        "id": "MwtNBR_QhsDQ"
      },
      "source": [
        "- zero tensor는 0으로 초기화된 텐서이다. \n",
        "\n",
        "  `torch.zeros()`"
      ]
    },
    {
      "cell_type": "code",
      "metadata": {
        "id": "qzpz1Smbhwr-",
        "outputId": "d003c40f-6dbf-48ae-fa1a-b5bc446b2379",
        "colab": {
          "base_uri": "https://localhost:8080/"
        }
      },
      "source": [
        "x = torch.zeros(5, 3, dtype=torch.long)\n",
        "print(x)"
      ],
      "execution_count": 5,
      "outputs": [
        {
          "output_type": "stream",
          "text": [
            "tensor([[0, 0, 0],\n",
            "        [0, 0, 0],\n",
            "        [0, 0, 0],\n",
            "        [0, 0, 0],\n",
            "        [0, 0, 0]])\n"
          ],
          "name": "stdout"
        }
      ]
    },
    {
      "cell_type": "markdown",
      "metadata": {
        "id": "7ELZ42Wgh2E3"
      },
      "source": [
        "- 이미 존재하는 데이터 array 로부터 tensor를 생성할 수도 있다. "
      ]
    },
    {
      "cell_type": "code",
      "metadata": {
        "id": "Ojn13PA0h9De",
        "outputId": "8d2b7427-16e7-46d8-881f-050bcb30f9e3",
        "colab": {
          "base_uri": "https://localhost:8080/"
        }
      },
      "source": [
        "x = torch.tensor([5.5, 3])\n",
        "print(x)"
      ],
      "execution_count": 6,
      "outputs": [
        {
          "output_type": "stream",
          "text": [
            "tensor([5.5000, 3.0000])\n"
          ],
          "name": "stdout"
        }
      ]
    },
    {
      "cell_type": "markdown",
      "metadata": {
        "id": "T9uFHMxais0e"
      },
      "source": [
        "- 또는, 존재하는 tensor 로부터 tensor를 생성할 수도 있다. \n",
        "  \n",
        "  이 방법은 참조하는 tensor의 data type같은 property들을 그대로 계승한다. \n",
        "\n",
        "- `torch.tensor`는 항상 data 만 copy한다. (deep copy)\n",
        "\n",
        " ` detach()`로 복사할 시에 `requires_grad` flag는 복사되지 않는다. \n",
        "\n",
        "  기본값인 False로 복사된다.\n",
        "   "
      ]
    },
    {
      "cell_type": "code",
      "metadata": {
        "id": "YHXDXbS5jm_S",
        "outputId": "9907cbdb-a469-492a-b616-6570ccbdb0ba",
        "colab": {
          "base_uri": "https://localhost:8080/"
        }
      },
      "source": [
        "x = torch.rand(5, 3)\n",
        "x.requires_grad = True\n",
        "print(\"원본 텐서\")\n",
        "print(x)\n",
        "print(\"dtype : \", x.dtype)\n",
        "print(\"require_grad\", x.requires_grad)\n",
        "\n",
        "y = x.detach()   \n",
        "print(\"\\n복사된 텐서\")\n",
        "print(y)\n",
        "print(\"dtype : \", y.dtype)\n",
        "print(\"require_grad\", y.requires_grad)"
      ],
      "execution_count": 39,
      "outputs": [
        {
          "output_type": "stream",
          "text": [
            "원본 텐서\n",
            "tensor([[0.6112, 0.2860, 0.8745],\n",
            "        [0.0068, 0.7502, 0.9342],\n",
            "        [0.4143, 0.9507, 0.8185],\n",
            "        [0.0198, 0.2933, 0.0697],\n",
            "        [0.8812, 0.8780, 0.2801]], requires_grad=True)\n",
            "dtype :  torch.float32\n",
            "require_grad True\n",
            "\n",
            "복사된 텐서\n",
            "tensor([[0.6112, 0.2860, 0.8745],\n",
            "        [0.0068, 0.7502, 0.9342],\n",
            "        [0.4143, 0.9507, 0.8185],\n",
            "        [0.0198, 0.2933, 0.0697],\n",
            "        [0.8812, 0.8780, 0.2801]])\n",
            "dtype :  torch.float32\n",
            "require_grad False\n"
          ],
          "name": "stdout"
        }
      ]
    },
    {
      "cell_type": "markdown",
      "metadata": {
        "id": "UzmGpppknFcp"
      },
      "source": [
        "- numpy 데이터로부터의 tensor 생성은 `torch.as_tensor()`로 한다. \n",
        "  \n",
        "  이때, 생성된 tensor 의 dtype는 원본 numpy array의 dtype와 동일하다."
      ]
    },
    {
      "cell_type": "code",
      "metadata": {
        "id": "WKHigFFkmlUg",
        "outputId": "48e8c97f-c2d6-429c-b8c8-f6d0b11b452c",
        "colab": {
          "base_uri": "https://localhost:8080/"
        }
      },
      "source": [
        "import numpy as np\n",
        "\n",
        "print(\"원본 numpy array\")\n",
        "array = np.zeros([3,4],dtype=np.int16)\n",
        "print(array)\n",
        "print(\"dtype : \", array.dtype)\n",
        "\n",
        "print(\"\\n복사된 tensor\")\n",
        "x = torch.as_tensor(array)\n",
        "print(x)\n",
        "print(\"dtype : \", x.dtype)\n"
      ],
      "execution_count": 41,
      "outputs": [
        {
          "output_type": "stream",
          "text": [
            "원본 numpy array\n",
            "[[0 0 0 0]\n",
            " [0 0 0 0]\n",
            " [0 0 0 0]]\n",
            "dtype :  int16\n",
            "\n",
            "복사된 tensor\n",
            "tensor([[0, 0, 0, 0],\n",
            "        [0, 0, 0, 0],\n",
            "        [0, 0, 0, 0]], dtype=torch.int16)\n",
            "dtype :  torch.int16\n",
            "tensor([[ 0.1210, -0.6545,  2.3995, -1.3764],\n",
            "        [ 0.5986,  0.4633,  0.2493,  0.7688],\n",
            "        [ 0.6259, -0.2294,  0.5746, -0.2345]])\n"
          ],
          "name": "stdout"
        }
      ]
    },
    {
      "cell_type": "markdown",
      "metadata": {
        "id": "olZ05KXxqBYI"
      },
      "source": [
        "- 존재하는 tensor의 shape만을 그대로 하여 복사할 수도 있다.\n",
        "\n",
        "  이때 dtype를 재지정 가능하다.\n",
        "\n",
        "  랜덤 초기값일 때는 `torch.rand_like()`를 사용한다.\n",
        "  \n",
        "  복사시 타입 지정도 가능하다."
      ]
    },
    {
      "cell_type": "code",
      "metadata": {
        "id": "oI9lICkspoB6",
        "outputId": "2e152314-cd85-4de8-f920-f1110b072f9e",
        "colab": {
          "base_uri": "https://localhost:8080/"
        }
      },
      "source": [
        "x = torch.zeros(5, 3, dtype=torch.float32)\n",
        "print(x)\n",
        "x = torch.randn_like(x, dtype=torch.float64)\n",
        "print(x)"
      ],
      "execution_count": 45,
      "outputs": [
        {
          "output_type": "stream",
          "text": [
            "tensor([[0., 0., 0.],\n",
            "        [0., 0., 0.],\n",
            "        [0., 0., 0.],\n",
            "        [0., 0., 0.],\n",
            "        [0., 0., 0.]])\n",
            "tensor([[ 3.2107, -1.0937, -0.4493],\n",
            "        [ 2.7068,  0.2336, -0.8580],\n",
            "        [ 0.1693, -0.4378, -0.0177],\n",
            "        [-0.9983, -1.5644,  0.1572],\n",
            "        [-0.9003,  0.5317,  1.3656]], dtype=torch.float64)\n"
          ],
          "name": "stdout"
        }
      ]
    },
    {
      "cell_type": "markdown",
      "metadata": {
        "id": "rPnKq8xRxGa_"
      },
      "source": [
        "- 많이 쓰는 기능중 하나, tensor의 shape을 보고 싶을때는 이렇게 한다.\n",
        "\n",
        "  `torch.size()` 는 메소드 이기에 callable 하며, python tuple을 리턴한다. \n",
        "\n",
        "   `torch.shape`로 속성으로 가져올 수도 있다.\n",
        "\n",
        "  때문에 tuple 연산도 먹힌다. "
      ]
    },
    {
      "cell_type": "code",
      "metadata": {
        "id": "0khD-mcrxUuV",
        "outputId": "d466f4ae-a133-43cb-fd7e-4c23839e0937",
        "colab": {
          "base_uri": "https://localhost:8080/"
        }
      },
      "source": [
        "print(x.size())\n",
        "print(type(x.size()))\n",
        "print(x.shape)\n",
        "print(type(x.shape))\n",
        "\n",
        "# index로 접근 가능하다.\n",
        "print(x.size(0))\n",
        "print(x.size(1))\n",
        "print(x.size(-1))\n",
        "print(x.size(-2))"
      ],
      "execution_count": 55,
      "outputs": [
        {
          "output_type": "stream",
          "text": [
            "torch.Size([5, 3])\n",
            "<class 'torch.Size'>\n",
            "torch.Size([5, 3])\n",
            "<class 'torch.Size'>\n",
            "5\n",
            "3\n",
            "3\n",
            "5\n"
          ],
          "name": "stdout"
        }
      ]
    },
    {
      "cell_type": "markdown",
      "metadata": {
        "id": "lLKKFAouy_bs"
      },
      "source": [
        "# 02 텐서 연산(tensor operation)"
      ]
    },
    {
      "cell_type": "markdown",
      "metadata": {
        "id": "oBDXS9Aszbgf"
      },
      "source": [
        "- 텐서 덧셈은 일반적인 numpy array에서와 동일하다. \n",
        "  \n",
        "  `torch.add` 메소드도 사용 가능하다. "
      ]
    },
    {
      "cell_type": "code",
      "metadata": {
        "id": "9PHoZqYYy8if",
        "outputId": "fb54e9fd-2dd7-45e3-80a1-77f243c2515f",
        "colab": {
          "base_uri": "https://localhost:8080/"
        }
      },
      "source": [
        "x = torch.rand(5, 3)\n",
        "y = torch.rand(5, 3)\n",
        "print(x)\n",
        "print(y)\n",
        "print(x + y)\n",
        "print(torch.add(x,y))\n"
      ],
      "execution_count": 59,
      "outputs": [
        {
          "output_type": "stream",
          "text": [
            "tensor([[0.6746, 0.0092, 0.8682],\n",
            "        [0.8074, 0.7882, 0.5122],\n",
            "        [0.0677, 0.4975, 0.2445],\n",
            "        [0.7842, 0.5493, 0.8065],\n",
            "        [0.8517, 0.6436, 0.0990]])\n",
            "tensor([[0.2712, 0.0514, 0.5063],\n",
            "        [0.6002, 0.3899, 0.4782],\n",
            "        [0.2084, 0.7761, 0.5595],\n",
            "        [0.0015, 0.9287, 0.9576],\n",
            "        [0.4556, 0.3830, 0.1505]])\n",
            "tensor([[0.9458, 0.0606, 1.3745],\n",
            "        [1.4077, 1.1782, 0.9904],\n",
            "        [0.2760, 1.2737, 0.8040],\n",
            "        [0.7857, 1.4780, 1.7641],\n",
            "        [1.3074, 1.0267, 0.2495]])\n",
            "tensor([[0.9458, 0.0606, 1.3745],\n",
            "        [1.4077, 1.1782, 0.9904],\n",
            "        [0.2760, 1.2737, 0.8040],\n",
            "        [0.7857, 1.4780, 1.7641],\n",
            "        [1.3074, 1.0267, 0.2495]])\n"
          ],
          "name": "stdout"
        }
      ]
    },
    {
      "cell_type": "markdown",
      "metadata": {
        "id": "F_i62Qy5zwRW"
      },
      "source": [
        "- 텐서 뺄셈은 일반적인 numpy array에서와 동일하다.\n",
        "\n",
        "  `torch.sub` 메소드도 사용 가능하다. "
      ]
    },
    {
      "cell_type": "code",
      "metadata": {
        "id": "xm-I4XlgzuhO",
        "outputId": "cfb2f5ba-0c9c-4e73-e406-0ecf02cdd741",
        "colab": {
          "base_uri": "https://localhost:8080/"
        }
      },
      "source": [
        "x = torch.rand(5, 3)\n",
        "y = torch.rand(5, 3)\n",
        "print(x)\n",
        "print(y)\n",
        "print(x - y)\n",
        "print(torch.sub(x,y))"
      ],
      "execution_count": 63,
      "outputs": [
        {
          "output_type": "stream",
          "text": [
            "tensor([[0.1139, 0.4161, 0.2404],\n",
            "        [0.5581, 0.4795, 0.5024],\n",
            "        [0.0541, 0.1892, 0.3181],\n",
            "        [0.3345, 0.7490, 0.7787],\n",
            "        [0.7382, 0.5958, 0.3403]])\n",
            "tensor([[0.9863, 0.0647, 0.5889],\n",
            "        [0.9977, 0.4372, 0.3532],\n",
            "        [0.9359, 0.3198, 0.1633],\n",
            "        [0.7694, 0.6494, 0.3090],\n",
            "        [0.7604, 0.4400, 0.4983]])\n",
            "tensor([[-0.8723,  0.3514, -0.3484],\n",
            "        [-0.4395,  0.0423,  0.1492],\n",
            "        [-0.8817, -0.1306,  0.1548],\n",
            "        [-0.4348,  0.0995,  0.4697],\n",
            "        [-0.0222,  0.1558, -0.1580]])\n",
            "tensor([[-0.8723,  0.3514, -0.3484],\n",
            "        [-0.4395,  0.0423,  0.1492],\n",
            "        [-0.8817, -0.1306,  0.1548],\n",
            "        [-0.4348,  0.0995,  0.4697],\n",
            "        [-0.0222,  0.1558, -0.1580]])\n"
          ],
          "name": "stdout"
        }
      ]
    },
    {
      "cell_type": "markdown",
      "metadata": {
        "id": "lHSyYman2eI8"
      },
      "source": [
        "- 텐서 reshape 를 하는 방법 몇가지가 있다. \n",
        " \n",
        "  reshape도 많이 사용하기 때문에 잘 알아야 한다. \n",
        "\n",
        "  둘다 shallow copy임에 유의.\n",
        "\n",
        "  1. `torch.view()`  : reshape된 새로운 tensor 반환, 원본 텐서와 data 공유\n",
        "\n",
        "        continuous tensor 에서만 가능\n",
        "\n",
        "  2. `torch.reshape()` : reshape된 새로운 tensor 반환, 원본 텐서와 data 공유 \n",
        "\n",
        "        continuous, non-continous tensor 에서 모두 가능 \n",
        "\n",
        "https://stackoverflow.com/questions/49643225/whats-the-difference-between-reshape-and-view-in-pytorch\n"
      ]
    },
    {
      "cell_type": "markdown",
      "metadata": {
        "id": "Idb1F9Eg6Xiv"
      },
      "source": [
        "- continuous tensor vs non-continous tensor \n",
        "\n",
        "![BJIVL.png](data:image/png;base64,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)\n",
        "\n",
        "    continuous array는 연속된 메모리 공간에 연속적으로 할당된 배열일 경우.\n",
        "\n",
        "![MXrA6.png](data:image/png;base64,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)\n",
        "    \n",
        "    메모리 할당공간의 인덱스와 데이터의 인덱스가 동일하다. \n",
        "\n",
        "![g6Nb0.png](data:image/png;base64,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)\n",
        "\n",
        "    non-continous array는 할당된 메모리 공간과 데이터의 인덱스가 다른경우\n",
        "\n",
        "![MXrA6.png](data:image/png;base64,iVBORw0KGgoAAAANSUhEUgAAAeEAAAApCAYAAAAChpFjAAAY40lEQVR4Xu2deVxP2f/HX82Qsk5FMhi7RJEajLXs+VnalG2a7yhZkyltWrRIUUgbP0uWLGOJyjCUZTIlI9VYxiQ0TDFqNJhkp8/3cY5qKh+qc2+6d773/sPj8fmcz3nd13nf+zzvs6Ugk8lkKL3y8/Ox3NsbKSkp+ERZGUkZGWUf1fm/hvr6ePj0KYYNGwYPX1+oq6u/Vaek793N8K/xz680/poqI+nsB4y/gfp4WFwaf0vfE3+SPrlBaPhv8W95afx9ooykpA8Yf4b6ePiwNP483hN/kj758Sdi/xTKIBwXE4N5c+cizNwc3dTVodu+fZ2Dt2oFF/LycK2gAAtjYhC1ZQsmmJiUf0XSV31ziNq/gzGYN28uwhzN0a29OnQ16yH+svNwLbcAC1fHICpqCyZMqhB/kr5qA/CCmP2LK42/MHN066YOXd16iL8Lebh2rQALF5bG34QK8Sfpqz7+ROofhTABXHRwMA7a2FR7ox/qC6ZRUbB2c8NEU1NI+mrvuqj8OxiD6HXBOLhSQPHnGgXrhW6YaGyKOElfrQPQVEz+xcUgOjoYBw8KKP5Mo2Bt7YaJE00RJ+mrffyJyD+Fu3fvyvpqa+NuQECtb7SuC7RydUVSSgpGGRhI+hjMFo1/Iwxw93sBxt8YVyT9mIJRkj6G6ANaicW/UQa4e1eA8dfKFUlJKRgl6WOLPxH4l5V1HQoLZs+WGchksPj8c6YbrctC36alYW16Opz695f0MRgtCv8y0+Fk2R8WowUYfwlpWHswHU6TJX0M4YdvxeBfXDqcnPvDwkKA8fdtGtauTYeTk6SPKf5E4F9amiIUdHv2lG01M6uXOeDqjM3MzYVReDgS7e0lfdWZJedzUfi3LhyJEfb1MgdcnaWZV3NhZB+OxHBJX3VeyftcFP45hCMx0b5e5oCr8zQzMxdGRpK+6nx61+di8M/WNh4KBvr6JUmzZyuw3mhdl9Py8ZFl+fhI+hiNFrx/AT6yrAMCbt/JPrKsGEkfY/hBS+j+zfCRZV0VcPtq+ciysiR9zPEncP+GD98oI3CTyTZsYL3HOi+nMGcOJH3sNovCv3QBx9/ncyCT9DEHoIIY/JMJOP4U5pAXNLP/dV1QQdLHyWLinwRhThYCooCc0DtZEuSYo1AUkBN6+0qQY48/CcLM3pGCEoQ52femsARhbiZS/4T+kpb0MTeyKDoJEoTZ21eCMLN3EoQ5WfdPYQnC3IyUIMzRPzEM9wq9EyNBmDkIpeFoZuveJHHScDQ3A6VMmCf/hP6SlvQxN7SUCTNbV/6SluaE2T0UQydBmhNmb19pOJqjd+WdGAlyzE6KAnJCb18pE2aPP2k4mtk73jPhm4WFcIqJQdK1ayiRyTBeWxtrLCyg3rw5N5F1sDraJjoaBUVFOGxnx0kbn5nwiawsLDtyBBm5uSgpKUG/jh3hN2kSDLp356SRr+HyczdvYklsLDJ+/x3Kioow0dVFoIkJVJo04a6P55f0+Su38MXMFYh0nYa55gbc9PE03Ks3wx8/Z+e9pcXYoA/iVs9n1sgXhB8+egLP9fE4cDITj548h07XtvCbOxGjB/Rk1kafD47+3cj7E91Mvd6r4eddnsz7zKk+HiD888+5cHE5iNTUHDRo8BFGjOiB1asno3PnVtz84wlyKSk3sGRJLDIyfoeKShOYm/eFr+9E+n8uF9dM08YmGgUFRTh8+O138c2bhXByikFS0jWUlMgwfrw21qyxgLp6zZnCVd/Ll6/Ru7cfbGwGw8lpjFyrduz4CfPm7UZxcVitreRtOPqv4mLoBwTgxatXsB8xgkI4KCEB7VVUcN7dHUoNG9ZaXFkBviBS9ntRKSmYtWMHxuvoCAbCKTduwGDVKvTQ0ID14MFU6oYffwTp2CQsWoQRPXrUq38EvIOCgugf9pg9dCjuPXqEkJMn0bVVK5xzc0Mjru3LI4Rfvy5Bv68CKPDWL5kuCAiTTlXTofbo1eVTDNDuVKkt+3RrB1vToeztyxFypOLnL15ikHUQ/eMVi6aOhLpqM2yMTcbVW/lI2rAYQ3S71pu+ew8ewWv9obfqL5GVYOuhVDRvqozsA35o+UlTJo18QPiPPx6iZ08fNG6sCAeHUXjx4hVWrTqOJk0UcfGiF9TU2LSVZUpcOwmnT1/DmDGhUFFpjIULh0NBQQEhISegodEcqamuaNZMick7rvqiolIwa9YOjB+v8xaE//qrGPr6AdRLe/sRFMJBQQlo314F58+7Q0mpZkzhAmHyBwa//noboqN/QnCwuVwIX7iQBwODVXj9Wla/EPaIi8PKhARcXroUWm3a0AZNys7G8DVrEDFtGhYYGrI3Mk+Z8OuSEgQcPQrv774DMVdIEO4fGIg/Hj7EVV9fNFV680A8ePwYWj4+5R0ZVgP56MSMCgnBpTt3kO3rW5757jp3Dl9u2YLdNjaY1r8/q7w3q8t5hHDIrhNwDNlP9QgFwmXZ3GYvK9gYD2H2Sl5Brpkm+c2g7QlwDT+IxMhF5ZkvyYy7mHjiC+1OOBK6kFkzH/rkVb5i2zEsiYjFgaA5MBuhx00fx0zYxeUAhe6lS17Q1m5LtRw//isF37Jlk+DpOZ5dHw+ZMMnkcnLu4fLlpeWZ+ZUrf6BPn2VwczOCv7/xB9VHOsoBAUfh7V36LpYDYQ+POKxcmUA1a2mVMiUpG8OHr0FExDQsWFAzprBC+OHDJ5g5czvi4i5Qb+RB+NChi7Cy2oKiomdo0qRR/UK4i4cHOrVsiRMODpUas7efH5orKSHFxYW9kXmAMMnQCegu3r4Nqy++wKmrV+kxmEIYjn707BlUHBww38AAYVOnVvLJassW7EpLw4vISDT4+GMmD7lCmGRxk9atQ882bRBkbl6u4c6DB2jn5oYlRkYIMDVl0kZ70jxC+HbBA2hZeMN8hB62Hz4rGAjHn74Ak8Xr8dM2t7cyYWbjSgvyAbke5kvRoY0aEiIWVZKz+1gaip88x2yz+s3Uq3p0PbcA2lP8MH6IDg4Gz+VkIR+Z8Pjx4SBHJN69G1yuhTw3Skp2MDPriz17bJk1skKkrMLc3Pvo0GEJ5s4dhvXrZ1TSMWFCBEgmd/v2yg+mj2S2/fsH4uLF27Cy+gKnTl2lR4ZWHY7u0sUDnTq1xIkTVZjS2w/NmyshJaVmTGHx75df7mDkyBDcv/8Y33wzknawqkJ4/vzdWL/+NPT0PkPLlk1x5kxO/UGYZGyqjo5wGTsWK83MKjXmzG3bsDc9HcVhYfjoo4+YGporREilxc+eoZevL9U3tV8/dHR3h/annwoCwkRfYXEx9aZl08rDVuPCwvBDdjaeRkTQISSWiw//5NWbcOUKjMLCsG76dMwzYJ935RPCZs7/j5t/FGKzpxU+twoQDIQDthyl861/J61FI8UGIEOsGmot8PHHbM9ExfbgCuHCh8VoNWoxVn0zGYu/HI0XL1/h/t+P6ZA06zPLpz55sWfpthHxpy/iyj5vdG2vzvJYlJfhA8LW1ttB5gULClZBVfXNHGsZ/MhLPCTEklkjC0QqVkbmqAcPDpKbPS5atBdhYafw55+r0KpVMyaNtdVXXPwMvXr5YuVKM0yd2g8dO7pDW/vTShB+8OAxVFUd4eIyln6v4jVz5jbs3ZtOgVeT+KytPlLX4cOXEBh4DGFhU6Cm1gSdOnm8BeHhw1fD0FATS5YYYfbsnYiJyaw/CP9y5w50/PwQOmUKnQ+ueJFhajIEnB8cjNaMC7T4gAgZfn5VUoKGpdmk0CAsL/qz8/Npx2Fsz544spDDcCAPIwkV9ZFOV/KNG7D79luanV/w9ERzZWWmB5gU4gvCh5MvYZLjOqRucYGSYkP0neEvGAjP8IzCkZTLmDBUB3sT0/HqdQmdw/S2nQC7KcOZvaP+cZwTTr2Yg8E2Qdi93AZpV25h48FkPHn2gkI4cIEprI3frFFgvbjqq1rv5Rt30GfaMtiaDsEG9y9ZZfEKYbIoi4Bu6NBuWLVqMl1YaWe3B5cu3abzl927t2bWyQKRipURbXp6y7F8uQnc3cdV0jFjRhR2707DpUtLoaPzZhi9tldt9dF38asSNGz4ZmRPHoRJJqqj44fQ0Cl0PrgSUzzi6FB2fn4wWreufoFWbfWRuki2rqjYgFZ761ahXAhX/A6ZN65XCJ/NyaGLdjZZWWHWkMrzXf5HjsDr0CHk+Pujcyu2VYJ8QLhqYAkdwk9evKALtX7Oy0Oqiwv6d6q8mKc2Dwqf/pFhfSU7OzqnrtigAQ7OnUvn1rlcfECYQKOnhQ/GfKGFjR5WuJCdJygI605fhovXbmPcIG1YjtbH/aLHWB/zI8hc8RoHCzjMGMVsIVfIfX/mMsYvioBWpzYUvo4zRkGx4ceI2JeEKzl/YJe/DaYbcZjz59hJqGrMnICd2BSbQrNgopnrxUcmTDTExGRg2rTNFDDkIpAhQ6xjxnBcXc5xTvj585dQU1uMbt3UkZHhXp49FhU9RefOHvjrr8dIS1uCfv06MlnJArmKFcmD8NmzORg0KAibNllh1qwqTPE/Ai+vQ8jJ8a/RynOu+t4F4Yr3UO8QTs3JweCgIGy2soLNOyD82/LldM6Y5eITImX1CxnCz16+hPG6dUj89VestbTEopEjWWwrL8Onf6RzcDIri65+Dz11im5Hi/rqK8wcNIhZIx8Qdgk7QFfKklWyqi2aCA7CwdGJ1B/nr/7Z4lBU/BRaFj4ofvIM+QnBUFZSZPKQK4Rjf/gZZBi/RVNlXI3xhUbLFlQH0dfNzAtNlBvht/jlTNpIIa76KlZMvNIY64KBOp1xfN03zJoqFuQDwlu3pmLWrGgYGHSHre0QkG0tkZFJdN4zPn4+xo7txayVK0RIxW5uB+kiJxMTXSxePJrqW7r0ELKzC3Dv3iNkZnqgb9/PmDRy1ScPwmVD6Js3W8HGRj6Ef/ttOZ0zru7iqk8UEL50+zb6LFuG8KlTYTe88tBa2XB04erVUKsy31mdeWWf8wkRoUOYLNKaFBlJ4eY7cSKWTphQU5ve+b268I9URrJiXX9/ut+aTDeUDfXXVjBXCJPhSbIHl2TAMye96QwILRN+lyfukbEI3HoMZ6JcMKhPl9paR7/PFXKJP/2KsXah+HriQGz1/rqShkWr9iJszynkHg5Eew3VetFXsVKyh3my6wZs8rTCLBN+VplzhTCZ42zb1pWu4E1NdSnPNMlwpb7+cvz991MQYDRowLiwkmMmTPwj0LW13YHt28+W20kWjJFFRZ6e8bh1KwAdOqixtS9HffIgTIbxycrt8PCpsLOrwpTS4ejCwtU12vr1PwHhh0+e0NW97uPGYbmJSaWGJAuz9mVk4FFoaI0m0eVFQV1ARIiZMNlrTRY6pf/+O11ARha68XHVhX9lusjhLKuPH8f1ZcvQVZ1tgQxXCBs7rsOJtCx8M30kFOgfBQMK7hdhc1wKHf7V6/EZHWIlGTLLxRVy76uTAI6AruLWoNpq5KqPDDlrT/GF29dGCLSrvMo9cOtRuEfGISvGFz06atRWGi+dhIqVWvttp6ve7x4Lgrpq9fOBNRHMFcJpaTcxYMAKufOXgYFH4e4eh6tXfaGpyegfR8hV9OD69QKa/Xbtqo4ePTTg6LifZuyPH4fVWydBHoTJ9iAVFQc6h03msiteZGHWvn0ZePSoZkz5n4AwMaizhwc0W7fGUXv7SoaRLUotlJWR7Oxck+dB7nfqAiJCgzAZ5jVcvZqeRrV+xgx6IAZfF1f/cu/fx9DgYNgOGQLP8ZX3O87esQObUlKQt2IF2qmoMEnmCuEhNkE4czHnvXVfj13GvIqWK+Ry8+9jkmMkpo/tD5f/VO5Y2QV9i8h9SciJ80fndoxrJjjOub589RqqIxwwsl+Pt07uIvOvUfFn8OBUCJo1YTvQgat/FRu2i7EHPmnWGBk7PZhiTW4nn+OJWefP36JbbshJTuSgjoqXf+n85a+/+pTvda2tcK4QIfXFx1+AunozDBxYebSFZOpNmzbC6dNOtZVV/n2u+uRBmDKlswc0NVvj6NEqTOnthxYtlJGcXDOmcNUniuFoYphzTAzWnjyJy97e9NQncpUd1hE5bRrmC+CwjopRJjQIz921i56QJW9In/npKC3IFcLkZ9q5utLhZnIYS9lhImSfsLafHzqoquKC1/uPFXzfPXCFsLzfFtJwNFnEpjHWGY2VFPHLXm86x0ouAudelj70eMjULa7MzcwH5EiGufP7c0jf4Y7e3dpRLQV/FaG7mRcG9u6CY+GVX4S1EcuHPlLf38VPoTLcAXPMhmL9ksr7XWujp+p3uWbCZNi5TRsXtG37Cc6fX4JGjd6c5PTkyQv07euP4uLnyMsLZB8J5CET1tPzpydOkbnfsm09+/dnwNJyI/butYWl5efMFnKF3Lsg7Owcg7VrT+LyZW+atVOmlB7WERk5DfPn1+1hHWWGiAbC5BhDbV9ffPzRR3AaPRrPX71CUGIiOqqp0dW95Kxh1osPiFStW0gQ/u3ePXTz8qIefTlggFybQiwsmD3kw7/Dly5hYmQk+rRrB5vBg1H07BkifviB/nvK0REDuK7e5vHELGKgkCBM9Ow7no4pSzZRwNkYD0bR46d09fHTZy+QvNm5HHwszwgfkLtb+Dc96vPZ85dYNG0k7TBE7k/Cn/cf4exWV9pRYL340EfqTvvlJgZ8vQJrF1tSjXxdXCFMdERHn8V//rMNffq0w8yZg+gK6aioM8jOzse+fbNhbs7hRC8eILxnz3m6cpscD2ls3Ac3btyjx1YaGfVCXNw85g4Cufe6gjBZMKat7Uv30js5jcbz568QFJSIjh3V6Ny7snLNmMJVn2ggTBqD7Gt13L8fp69fR2NFRRj16oVgc3Pm/cFlDxkfEBEyhLelpmLm9u3vfac8CAnBJ40bM713+PKPgNj/++9xIS8PjRo0gKGmJvyNjaHTlv0FTR9iHk/MKjNIaBAmusiiopXRCbh0/Tbdx2yg1x2Bdibo2flTpnYtfz44DkeX/U5e/n24RcTiaOovIEPUZAXyyoVm6NuDbdUs3/q++/Ei3Qe+b8VsWIzS5+RZxcJ8QJj83pEjl+n+VbIvlxysQ7b8eHn9H0aO1OKklStEyion+4HJCukbN/6kZ0Z/9dVAuLqOrfEZzO+6Ca763pUJU6Zk59N569Onr9NzuUmngZxcVZP9weXxx7ETIyoIc4q09xTmCyKSvrpygNvv1gWEuSmqXJqvTI5PTW9BhOeRBD61isI/jmdH8+lX1d/iCrm61EY70RwhJ+mbQ5eTymQbNtS1F8y/L0GY2TpaUBT+SRBhbmRRQE7o7StBmD3+JAgze1fWiZEgzMlCkUBO6J0sob+kJX3MT4koOgkShNnbV4Iws3cShDlZ909hUWSaEoSZW1sUEJE6CdzaV4Iwu38ShJm9kyDMyToJwjzZVycLs/jSRh8SnhY+8amp4m9J+rg5y9fCLG4q3l1amnPl5qwY/JOGo7m1sTjmXKVMmLmVJcgxW/dmTYIYOjFSJszcyGKAnEzg7StBmDn83hSUhqO5GSitjubonxggJ/ThcoG/pIUOEUkf+zNMOjEKhvr6JT/Mns32F+PZ665xSS0fH1mWj4+kr8aOVf6i4P0L8JFlHRBw+072kWXFSPoYww9aQvdvho8s66qA21fLR5aVJeljjj+B+2douFGmoNuzp2yrmRl027dnvc86K5eZmwuj8HAk2ttL+hhcFoV/68KRGGEPXU0Bxt/VXBjZhyMxXNLHEH7IFIN/DuFITLSHrq4A4y8zF0ZGkj6W2CNlMkXgn61tPBTs586VDX79Gpafs58fympSdeX2pKUhNCMDDv36SfqqM0vO56Lw70IGHCb3g+VoAcZfQhpCYzPgYC7pYwg/7BGDf/EZcFjcj9P5ySze1KTMnj1pCA3NgIODpK8mflX9jhj8O3euERQKCgpkOj16oGDFCpb7rNMyas7OSE1Lw7CBAyV9DE6Lxr8hA1FwTIDxN8oZqT+lYZikjyH6ADWx+DdsIAoKBBh/as5ITU3DMEkfW/yJwL/r129CQSaTyQ7HxSEqIACxs2Yx3WxdFDLZvBlzPD0xbtIkSPpq77Co/DsUh6iwAMSuFFD8OW/GnMWeGDd+Eg5L+modgCZi8u9wHKKiAhAbK6D4M9mMOXM8MW7cJByW9NU+/kTkH4UwucPvYmNhbW2NMHNzaGpoQO8zbge319o1Moafm4trBQVYsG8fdu7YQQFcdkn6qndU1P7Fl8bfYnNodtCAHsc/HFC9W29/g8xhXvu9AAuC92Hnzh0UwOXxJ+mr1lJR+/ddafyFmUNTUwN6evXw/svMxbVrBViwoDT+xlWIP0lf9fEnUv/KIUzusLCwEP5LlyI5ORnNGzVCUkZGtTfO1xcM9fVR9Pw5hhkYwMvPD6qqqm/9tKTv3W7/a/zzW4rkH5PRvHEjJJ39gPE3UB9FT0rjz/s98SfpkxuEhv8W//xL33/NGyEp6QPGn6E+ioqeY9gwA3h5vSf+JH3y40/E/v0XuVHLfDG56/QAAAAASUVORK5CYII=)"
      ]
    },
    {
      "cell_type": "code",
      "metadata": {
        "id": "CdnQNmbW2du9",
        "outputId": "c4e4b7a9-a098-48ee-aee4-d00cae5ac828",
        "colab": {
          "base_uri": "https://localhost:8080/"
        }
      },
      "source": [
        "x = torch.rand(2,2)\n",
        "y = x.view(4,) \n",
        "print(x)\n",
        "print(y)\n",
        "print(x.shape, y.shape)\n",
        "y = x.reshape(4,) \n",
        "print(x)\n",
        "print(y)\n",
        "print(x.shape, y.shape)\n",
        "## 연산결과는 동일해 보인다. 하지만?\n"
      ],
      "execution_count": 92,
      "outputs": [
        {
          "output_type": "stream",
          "text": [
            "tensor([[0.6519, 0.0645],\n",
            "        [0.2105, 0.5340]])\n",
            "tensor([0.6519, 0.0645, 0.2105, 0.5340])\n",
            "torch.Size([2, 2]) torch.Size([4])\n",
            "tensor([[0.6519, 0.0645],\n",
            "        [0.2105, 0.5340]])\n",
            "tensor([0.6519, 0.0645, 0.2105, 0.5340])\n",
            "torch.Size([2, 2]) torch.Size([4])\n",
            "tensor([[0., 0.],\n",
            "        [0., 0.]])\n",
            "tensor([0., 0., 0., 0.])\n",
            "140265761478480 140267172479408\n"
          ],
          "name": "stdout"
        }
      ]
    },
    {
      "cell_type": "code",
      "metadata": {
        "id": "eIdikRZo4X4m",
        "outputId": "53e6677b-f7ed-4673-d8f8-fb0db0809409",
        "colab": {
          "base_uri": "https://localhost:8080/"
        }
      },
      "source": [
        "for i in range(len(y)):\n",
        "  y[i] = 0\n",
        "print(x)\n",
        "print(y)\n",
        "## reshape는 shallow copy 이기 때문에, x도 함께 바뀐다. \n",
        "## id 는 다르지만, data를 공유한다. \n",
        "print(id(x),id(y))"
      ],
      "execution_count": 93,
      "outputs": [
        {
          "output_type": "stream",
          "text": [
            "tensor([[0., 0.],\n",
            "        [0., 0.]])\n",
            "tensor([0., 0., 0., 0.])\n",
            "140265761478480 140267172479408\n"
          ],
          "name": "stdout"
        }
      ]
    },
    {
      "cell_type": "code",
      "metadata": {
        "id": "vyxBz8kU4aXd",
        "outputId": "85466a50-38f2-49a8-fcf9-0f4a5cd9d442",
        "colab": {
          "base_uri": "https://localhost:8080/"
        }
      },
      "source": [
        "x = torch.rand(2,2)\n",
        "y = x.view(4,) \n",
        "for i in range(len(y)):\n",
        "  y[i] = 0\n",
        "print(x)\n",
        "print(y)\n",
        "print(x.shape, y.shape)"
      ],
      "execution_count": 94,
      "outputs": [
        {
          "output_type": "stream",
          "text": [
            "tensor([[0., 0.],\n",
            "        [0., 0.]])\n",
            "tensor([0., 0., 0., 0.])\n",
            "torch.Size([2, 2]) torch.Size([4])\n"
          ],
          "name": "stdout"
        }
      ]
    },
    {
      "cell_type": "markdown",
      "metadata": {
        "id": "Ua52TmfH02PO"
      },
      "source": [
        "# 03 텐서의 Deep copy, Shallow copy"
      ]
    },
    {
      "cell_type": "markdown",
      "metadata": {
        "id": "99r9Ncz009Yc"
      },
      "source": [
        "- 텐서 객체를 복사할 때 shallow copy 인지 deep copy 인지 확인해야 한다. "
      ]
    },
    {
      "cell_type": "code",
      "metadata": {
        "id": "PT0oRWdM1EuU",
        "outputId": "a9d8b2eb-3ee0-4828-8e13-5064f068ec36",
        "colab": {
          "base_uri": "https://localhost:8080/"
        }
      },
      "source": [
        "## shallow copy\n",
        "x = torch.rand(5,3)\n",
        "print(x)\n",
        "y = x\n",
        "print(y)\n",
        "print(id(x), id(y))\n",
        "print(x.requires_grad,y.requires_grad)\n",
        "y.copy_(x)\n",
        "print(y)\n",
        "print(id(x), id(y))\n",
        "print(x.requires_grad,y.requires_grad)\n",
        "## deep copy\n",
        "x.requires_grad=True\n",
        "y = x.detach()\n",
        "print(y)\n",
        "print(id(x), id(y))\n",
        "print(x.requires_grad,y.requires_grad)"
      ],
      "execution_count": 80,
      "outputs": [
        {
          "output_type": "stream",
          "text": [
            "tensor([[0.3639, 0.1402, 0.0895],\n",
            "        [0.3067, 0.1039, 0.3856],\n",
            "        [0.6374, 0.6134, 0.9177],\n",
            "        [0.9680, 0.0585, 0.4951],\n",
            "        [0.8953, 0.1833, 0.9700]])\n",
            "tensor([[0.3639, 0.1402, 0.0895],\n",
            "        [0.3067, 0.1039, 0.3856],\n",
            "        [0.6374, 0.6134, 0.9177],\n",
            "        [0.9680, 0.0585, 0.4951],\n",
            "        [0.8953, 0.1833, 0.9700]])\n",
            "140265761445424 140265761445424\n",
            "False False\n",
            "tensor([[0.3639, 0.1402, 0.0895],\n",
            "        [0.3067, 0.1039, 0.3856],\n",
            "        [0.6374, 0.6134, 0.9177],\n",
            "        [0.9680, 0.0585, 0.4951],\n",
            "        [0.8953, 0.1833, 0.9700]])\n",
            "140265761445424 140265761445424\n",
            "False False\n",
            "tensor([[0.3639, 0.1402, 0.0895],\n",
            "        [0.3067, 0.1039, 0.3856],\n",
            "        [0.6374, 0.6134, 0.9177],\n",
            "        [0.9680, 0.0585, 0.4951],\n",
            "        [0.8953, 0.1833, 0.9700]])\n",
            "140265761445424 140265762010744\n",
            "True False\n"
          ],
          "name": "stdout"
        }
      ]
    }
  ]
}